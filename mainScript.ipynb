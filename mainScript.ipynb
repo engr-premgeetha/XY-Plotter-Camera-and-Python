{
 "cells": [
  {
   "cell_type": "markdown",
   "metadata": {},
   "source": [
    "ImportModules"
   ]
  },
  {
   "cell_type": "code",
   "execution_count": 2,
   "metadata": {},
   "outputs": [],
   "source": [
    "from ast import Return\n",
    "import csv\n",
    "import os\n",
    "from datetime import datetime\n",
    "from tabnanny import check"
   ]
  },
  {
   "cell_type": "markdown",
   "metadata": {},
   "source": [
    "Global Variables"
   ]
  },
  {
   "cell_type": "code",
   "execution_count": 3,
   "metadata": {},
   "outputs": [],
   "source": [
    "digit1 = int(0)\n",
    "digit2 = int(0)\n",
    "digit3 = int(0)\n",
    "digit4 = int(0)\n",
    "currentTrial = int(0)\n",
    "currentTime = '0'\n",
    "camera_status = int(0)"
   ]
  },
  {
   "cell_type": "markdown",
   "metadata": {},
   "source": [
    "Find Current Time and add to Variable"
   ]
  },
  {
   "cell_type": "code",
   "execution_count": 4,
   "metadata": {},
   "outputs": [],
   "source": [
    "def timeStamp():\n",
    "    global currentTime\n",
    "    now = datetime.now()\n",
    "    currentTime = now.strftime(\"%Y%m%d%H%M%S\")\n",
    "    return currentTime"
   ]
  },
  {
   "cell_type": "code",
   "execution_count": 5,
   "metadata": {},
   "outputs": [
    {
     "data": {
      "text/plain": [
       "'20221015100707'"
      ]
     },
     "execution_count": 5,
     "metadata": {},
     "output_type": "execute_result"
    }
   ],
   "source": [
    "timeStamp()"
   ]
  },
  {
   "cell_type": "markdown",
   "metadata": {},
   "source": [
    "To Find Current Trail From the file"
   ]
  },
  {
   "cell_type": "code",
   "execution_count": 6,
   "metadata": {},
   "outputs": [],
   "source": [
    "def findcurrentTrial():\n",
    "    with open(\"./log/result.csv\", 'r') as file:\n",
    "        csvreader = csv.DictReader(file)\n",
    "        for row in csvreader:\n",
    "            currentTrial=int(row[\"trial\"])\n",
    "            if(row[\"done\"] != \"0\"):\n",
    "                currentTrial = currentTrial + 1\n",
    "    return currentTrial"
   ]
  },
  {
   "cell_type": "markdown",
   "metadata": {},
   "source": [
    "Seperating Digital Of Trial"
   ]
  },
  {
   "cell_type": "code",
   "execution_count": 7,
   "metadata": {},
   "outputs": [],
   "source": [
    "def trailDigits():\n",
    "    digit1=int(currentTrial/1000)\n",
    "    digit2=int(currentTrial/100)%10\n",
    "    digit3=int(currentTrial/10)%10\n",
    "    digit4=int(currentTrial%10)"
   ]
  },
  {
   "cell_type": "markdown",
   "metadata": {},
   "source": [
    "Trigger Camera"
   ]
  },
  {
   "cell_type": "code",
   "execution_count": 8,
   "metadata": {},
   "outputs": [],
   "source": [
    "def camera():\n",
    "    trailDigits()\n",
    "    currentTime = timeStamp()\n",
    "    os.system(\"./camera 2 \"+ str(digit1) + str(digit2) + str(digit3) + str(digit4) + \" \" + str(currentTime))"
   ]
  },
  {
   "cell_type": "markdown",
   "metadata": {},
   "source": [
    "Read File for Current Trial and Key Values"
   ]
  },
  {
   "cell_type": "code",
   "execution_count": 9,
   "metadata": {},
   "outputs": [],
   "source": [
    "def readFile():\n",
    "    global currentTime\n",
    "    print(\"ReadingFile\")\n",
    "    print(currentTime)\n",
    "    with open(\"./log/result.csv\", 'r') as file:\n",
    "        csvreader = csv.DictReader(file)\n",
    "        for row in csvreader:\n",
    "            if( (int(row[\"trial\"]) == int(currentTrial)) and (int(row[\"timeStamp\"]) == int(currentTime))):\n",
    "                if(float(row[\"charged\"]) >= 0.95):\n",
    "                    print(\"charged\")\n",
    "                elif(float(row[\"keyBoard\"]) >= 0.95):\n",
    "                    print(\"keyboard\")\n",
    "                elif(float(row[\"powerOff\"]) >= 0.95):\n",
    "                    print(\"powerOff\")\n",
    "                elif(float(row[\"unlocked\"]) >= 0.95):\n",
    "                    print(\"unlocked\")\n",
    "                elif(float(row[\"done\"]) >= 0.95):\n",
    "                    print(\"done\")\n",
    "                else:\n",
    "                    print(\"No Object Deteched\")\n",
    "                    pass"
   ]
  },
  {
   "cell_type": "code",
   "execution_count": 10,
   "metadata": {},
   "outputs": [
    {
     "name": "stdout",
     "output_type": "stream",
     "text": [
      "0\n"
     ]
    }
   ],
   "source": [
    "print(findcurrentTrial())"
   ]
  },
  {
   "cell_type": "code",
   "execution_count": 13,
   "metadata": {},
   "outputs": [],
   "source": [
    "camera()"
   ]
  },
  {
   "cell_type": "code",
   "execution_count": 28,
   "metadata": {},
   "outputs": [
    {
     "name": "stdout",
     "output_type": "stream",
     "text": [
      "ReadingFile\n",
      "20221013154247\n",
      "No Object Deteched\n"
     ]
    }
   ],
   "source": [
    "readFile()"
   ]
  }
 ],
 "metadata": {
  "kernelspec": {
   "display_name": "Python 3.10.6 64-bit",
   "language": "python",
   "name": "python3"
  },
  "language_info": {
   "codemirror_mode": {
    "name": "ipython",
    "version": 3
   },
   "file_extension": ".py",
   "mimetype": "text/x-python",
   "name": "python",
   "nbconvert_exporter": "python",
   "pygments_lexer": "ipython3",
   "version": "3.10.6"
  },
  "orig_nbformat": 4,
  "vscode": {
   "interpreter": {
    "hash": "e7370f93d1d0cde622a1f8e1c04877d8463912d04d973331ad4851f04de6915a"
   }
  }
 },
 "nbformat": 4,
 "nbformat_minor": 2
}
